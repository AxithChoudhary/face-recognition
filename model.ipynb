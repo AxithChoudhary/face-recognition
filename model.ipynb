{
 "cells": [
  {
   "cell_type": "code",
   "execution_count": 3,
   "metadata": {},
   "outputs": [],
   "source": [
    "# pip install numpy\n",
    "# pip install face-recognition  \n",
    "# pip install cmake\n",
    "# pip install dlib==19.18\n",
    "# pip install opencv"
   ]
  },
  {
   "cell_type": "code",
   "execution_count": 1,
   "metadata": {},
   "outputs": [],
   "source": [
    "import numpy as np\n",
    "import face_recognition\n",
    "import cv2\n",
    "from datetime import datetime"
   ]
  },
  {
   "cell_type": "code",
   "execution_count": 2,
   "metadata": {},
   "outputs": [
    {
     "name": "stdout",
     "output_type": "stream",
     "text": [
      "['abhishake kumar.jpg', 'axith choudhary.jpg', 'devansh toplani.jpg', 'elon bhai 1.jpg', 'jack ma.jpg']\n",
      "5\n"
     ]
    }
   ],
   "source": [
    "import os\n",
    "path=\"images\"\n",
    "images=[]\n",
    "classNames=[]\n",
    "myList=os.listdir(path)\n",
    "print(myList)\n",
    "for _ in myList:\n",
    "    curImg=cv2.imread(f\"{path}\\{_}\")\n",
    "    # curImg=cv2.imread(\"f{path}/{_}\")\n",
    "    images.append(curImg)\n",
    "    classNames.append(os.path.splitext(_)[0])\n",
    "print(len(images))"
   ]
  },
  {
   "cell_type": "code",
   "execution_count": 3,
   "metadata": {},
   "outputs": [
    {
     "name": "stdout",
     "output_type": "stream",
     "text": [
      "encoding complete\n"
     ]
    }
   ],
   "source": [
    "def findEncoding(images):\n",
    "    encodingList=[]\n",
    "    for img in images:\n",
    "        img=cv2.cvtColor(img,cv2.COLOR_BGR2RGB)\n",
    "        encode=face_recognition.face_encodings(img)[0]\n",
    "        encodingList.append(encode)\n",
    "    return encodingList\n",
    "encodinfListKnow=findEncoding(images)\n",
    "print(\"encoding complete\")"
   ]
  },
  {
   "cell_type": "code",
   "execution_count": 4,
   "metadata": {},
   "outputs": [],
   "source": [
    "def markAttendence(name):\n",
    "    with open(\"attendence.csv\",\"r+\") as f:\n",
    "        myDataList=f.readlines()\n",
    "        nameList=[]\n",
    "        for line in myDataList:\n",
    "            entry=line.split(\",\")\n",
    "            nameList.append(entry[0])\n",
    "        if name not in nameList:\n",
    "            now=datetime.now()\n",
    "            dtString=now.strftime(\"%H:%M:%S\")\n",
    "            f.writelines(f\"\\n{name},{dtString}\")\n",
    "         \n",
    "\n"
   ]
  },
  {
   "cell_type": "code",
   "execution_count": 5,
   "metadata": {},
   "outputs": [],
   "source": [
    "cap=cv2.VideoCapture(0)\n"
   ]
  },
  {
   "cell_type": "code",
   "execution_count": null,
   "metadata": {},
   "outputs": [
    {
     "name": "stdout",
     "output_type": "stream",
     "text": [
      "[0.68306913 0.30911327 0.71375945 0.79781946 0.84336517]\n",
      "AXITH CHOUDHARY\n",
      "[0.65581199 0.28515698 0.73728457 0.84589603 0.83669371]\n",
      "AXITH CHOUDHARY\n",
      "[0.64999745 0.20414192 0.75343206 0.84759058 0.80867627]\n",
      "AXITH CHOUDHARY\n",
      "[0.66987404 0.20703625 0.74764223 0.80737224 0.82042165]\n",
      "AXITH CHOUDHARY\n",
      "[0.66871459 0.20489695 0.74231251 0.81664305 0.83581342]\n",
      "AXITH CHOUDHARY\n",
      "[0.64189756 0.22673177 0.74121021 0.87975709 0.8212268 ]\n",
      "AXITH CHOUDHARY\n",
      "[0.62700428 0.22223773 0.734101   0.86548581 0.80387904]\n",
      "AXITH CHOUDHARY\n",
      "[0.66514272 0.31079047 0.69469829 0.79697582 0.74455844]\n",
      "AXITH CHOUDHARY\n",
      "[0.66042584 0.34030463 0.70415958 0.77689394 0.72983182]\n",
      "AXITH CHOUDHARY\n",
      "[0.66138803 0.33018627 0.68603611 0.79849349 0.74096629]\n",
      "AXITH CHOUDHARY\n",
      "[0.65450265 0.25511377 0.73187846 0.85713618 0.79775839]\n",
      "AXITH CHOUDHARY\n",
      "[0.64156105 0.20832747 0.750175   0.84320657 0.80959018]\n",
      "AXITH CHOUDHARY\n",
      "[0.64500084 0.22539199 0.73277608 0.853761   0.80619157]\n",
      "AXITH CHOUDHARY\n",
      "[0.66419883 0.21500456 0.75051774 0.86077473 0.80358546]\n",
      "AXITH CHOUDHARY\n",
      "[0.66942879 0.22464005 0.75848202 0.84888413 0.78108689]\n",
      "AXITH CHOUDHARY\n",
      "[0.64877996 0.19969983 0.77175348 0.85895804 0.80240824]\n",
      "AXITH CHOUDHARY\n",
      "[0.68285428 0.19296132 0.74784347 0.82698543 0.82180123]\n",
      "AXITH CHOUDHARY\n",
      "[0.66613817 0.21455274 0.764474   0.84321556 0.81849631]\n",
      "AXITH CHOUDHARY\n",
      "[0.66380876 0.22258611 0.74360234 0.83481433 0.84752188]\n",
      "AXITH CHOUDHARY\n",
      "[0.66086306 0.20153247 0.72625643 0.81544132 0.8155467 ]\n",
      "AXITH CHOUDHARY\n",
      "[0.6572484  0.20393896 0.76630958 0.8280168  0.79286616]\n",
      "AXITH CHOUDHARY\n",
      "[0.66502178 0.20507892 0.74066394 0.83929428 0.79314868]\n",
      "AXITH CHOUDHARY\n",
      "[0.67454936 0.21266225 0.76206248 0.8371097  0.83075383]\n",
      "AXITH CHOUDHARY\n",
      "[0.67260135 0.20656501 0.75433857 0.81588933 0.81124676]\n",
      "AXITH CHOUDHARY\n",
      "[0.67481576 0.20386841 0.7594682  0.83618468 0.82819759]\n",
      "AXITH CHOUDHARY\n",
      "[0.66550511 0.24204513 0.71529593 0.82044856 0.80012226]\n",
      "AXITH CHOUDHARY\n",
      "[0.65590576 0.21687448 0.71917217 0.83725001 0.81018616]\n",
      "AXITH CHOUDHARY\n",
      "[0.63265718 0.18894131 0.75965069 0.86415928 0.81096387]\n",
      "AXITH CHOUDHARY\n",
      "[0.64475624 0.19483324 0.75464582 0.83546153 0.79157017]\n",
      "AXITH CHOUDHARY\n",
      "[0.64765104 0.20768943 0.73979363 0.82312877 0.78711326]\n",
      "AXITH CHOUDHARY\n",
      "[0.66857646 0.21449543 0.76320221 0.83332896 0.79022638]\n",
      "AXITH CHOUDHARY\n",
      "[0.64356386 0.19651118 0.74132364 0.82883887 0.78986967]\n",
      "AXITH CHOUDHARY\n"
     ]
    },
    {
     "ename": "",
     "evalue": "",
     "output_type": "error",
     "traceback": [
      "\u001b[1;31mCanceled future for execute_request message before replies were done"
     ]
    },
    {
     "ename": "",
     "evalue": "",
     "output_type": "error",
     "traceback": [
      "\u001b[1;31mThe Kernel crashed while executing code in the the current cell or a previous cell. Please review the code in the cell(s) to identify a possible cause of the failure. Click <a href='https://aka.ms/vscodeJupyterKernelCrash'>here</a> for more info. View Jupyter <a href='command:jupyter.viewOutput'>log</a> for further details."
     ]
    }
   ],
   "source": [
    "while True:\n",
    "    sucess,img=cap.read()\n",
    "    imgS=cv2.resize(img,(0,0),None,0.25,0.25)\n",
    "    imgS=cv2.cvtColor(img,cv2.COLOR_BGR2RGB)\n",
    "    key = cv2. waitKey(1)\n",
    "\n",
    "    facesCurFrame=face_recognition.face_locations(imgS)\n",
    "    encodingCurFrame=face_recognition.face_encodings(imgS,facesCurFrame)\n",
    "\n",
    "    for encodeFace,faceLoc in zip(encodingCurFrame,facesCurFrame):\n",
    "        matches=face_recognition.compare_faces(encodinfListKnow,encodeFace)\n",
    "        faceDis=face_recognition.face_distance(encodinfListKnow,encodeFace)\n",
    "        print(faceDis)\n",
    "        matchIndex=np.argmin(faceDis)\n",
    "\n",
    "        if matches[matchIndex]:\n",
    "            name=classNames[matchIndex].upper()\n",
    "            print(name)\n",
    "            y1,x2,y2,x1=faceLoc\n",
    "            y1,x2,y2,x1=y1*4,x2*4,y2*4,x1*4\n",
    "            cv2.rectangle(img,(x1,y1),(x2,y2),(255,0,0),2)\n",
    "            cv2.rectangle(img,(x1,y1-35),(x2,y2),(0,255,0),cv2.FILLED)\n",
    "            cv2.putText(img,name,(x1+6,y2-6),cv2.FONT_HERSHEY_SIMPLEX,1,(255,255,255),2)\n",
    "            markAttendence(name)\n",
    "        elif key == ord(\"q\"):\n",
    "            cap.release()\n",
    "            cv2.destroyAllWindows()\n",
    "            break\n",
    "\n",
    "    cv2.imshow(\"webcam\",img)\n",
    "    cv2.waitKey(1)\n"
   ]
  },
  {
   "cell_type": "code",
   "execution_count": 7,
   "metadata": {},
   "outputs": [],
   "source": [
    "cv2.destroyAllWindows()\n",
    "cap.release()"
   ]
  }
 ],
 "metadata": {
  "kernelspec": {
   "display_name": "Python 3.7.0 64-bit",
   "language": "python",
   "name": "python3"
  },
  "language_info": {
   "codemirror_mode": {
    "name": "ipython",
    "version": 3
   },
   "file_extension": ".py",
   "mimetype": "text/x-python",
   "name": "python",
   "nbconvert_exporter": "python",
   "pygments_lexer": "ipython3",
   "version": "3.7.0"
  },
  "orig_nbformat": 4,
  "vscode": {
   "interpreter": {
    "hash": "5fb51b2465e4bb45ef9cb83ec731570ea219133fed5d9ff44e06ad173092ec73"
   }
  }
 },
 "nbformat": 4,
 "nbformat_minor": 2
}
